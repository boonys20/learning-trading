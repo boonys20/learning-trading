{
 "cells": [
  {
   "cell_type": "markdown",
   "metadata": {},
   "source": [
    "## Generate a Baseline"
   ]
  },
  {
   "cell_type": "code",
   "execution_count": 5,
   "metadata": {},
   "outputs": [],
   "source": [
    "# imports and define constants that will be used by the helper methods.\n",
    "\n",
    "import os\n",
    "import math\n",
    "import numpy as np\n",
    "import pandas as pd\n",
    "import warnings\n",
    "warnings.filterwarnings('ignore')\n",
    "\n",
    "from sklearn.metrics import confusion_matrix, classification_report\n",
    "\n",
    "# Constants\n",
    "BARS=15\n",
    "RESULT_DIR='./result'\n",
    "DATE_SPLIT='2019-06-01'"
   ]
  },
  {
   "cell_type": "code",
   "execution_count": 6,
   "metadata": {},
   "outputs": [],
   "source": [
    "def get_datasets():\n",
    "\n",
    "    train_val = pd.read_csv('./data/spy.2008.2021.csv.gz', compression='gzip')\n",
    "    train_val = train_val[['date','open','close']]\n",
    "    train_val['date'] = pd.to_datetime(train_val['date'])\n",
    "\n",
    "    test = pd.read_csv('./data/spy.csv.gz', compression='gzip')\n",
    "    test = test[['date','open','close']]\n",
    "    test['date'] = pd.to_datetime(test['date'])\n",
    "\n",
    "    train = train_val[train_val['date'] <= DATE_SPLIT]\n",
    "    validation = train_val[(train_val['date'] > DATE_SPLIT) & (train_val['date'] < test['date'].min())]\n",
    "\n",
    "    return train, validation, test"
   ]
  },
  {
   "cell_type": "code",
   "execution_count": 7,
   "metadata": {},
   "outputs": [],
   "source": [
    "def get_features_targets(df, scale_obs=True):\n",
    "\n",
    "    feature_result = []\n",
    "    dates = []\n",
    "\n",
    "    # Remove duplicated dates\n",
    "    df = df.groupby(by='date').mean().reset_index()\n",
    "\n",
    "    # Get Features based on BARS configuration\n",
    "    features = df[((df['date'].dt.hour == 9) & (df['date'].dt.minute >= 30)) &\n",
    "                   (df['date'].dt.hour == 9) & (df['date'].dt.minute < 30 + BARS)]\n",
    "    features = features.groupby(features['date'].dt.date)\n",
    "\n",
    "    for dt, feature in features:\n",
    "\n",
    "        if len(feature) != BARS:\n",
    "            feature = feature.set_index('date')\n",
    "            feature = feature.resample('1T').asfreq().reindex(pd.date_range(str(dt) + ' 09:30:00', str(dt) + f' 09:{30+BARS-1}:00', freq='1T'))\n",
    "            feature = feature.reset_index()\n",
    "            feature['close'] = feature['close'].fillna(method='ffill')\n",
    "            feature['open'] = feature['open'].fillna(feature['close'])\n",
    "            feature = feature.dropna()\n",
    "\n",
    "        if len(feature) == BARS:\n",
    "            feature = feature['close'].values\n",
    "\n",
    "            if scale_obs:\n",
    "                feature -= np.min(feature)\n",
    "                feature /= np.max(np.abs(feature))\n",
    "                feature = np.nan_to_num(feature, nan=0.0, posinf=0.0, neginf=0.0)\n",
    "\n",
    "            feature_result.append(feature)\n",
    "            dates.append(dt)\n",
    "\n",
    "    # Get Targets Trend based on first and last value / day (0: DOWN - 1: UP)\n",
    "    targets = df.set_index('date')\n",
    "    targets = targets.resample('1D').agg({'open':'first', 'close':'last'})\n",
    "    targets = targets.loc[dates].reset_index().sort_values(by='date')\n",
    "    targets['trend'] = np.where(targets['open'] < targets['close'], 1, 0)\n",
    "\n",
    "    print(len(feature_result), len(targets))\n",
    "    return np.array(feature_result), np.array(targets['trend'].values)"
   ]
  },
  {
   "cell_type": "code",
   "execution_count": 8,
   "metadata": {},
   "outputs": [
    {
     "data": {
      "text/plain": [
       "(                       date    open   close\n",
       " 0       2008-01-22 09:30:00  126.45  126.67\n",
       " 1       2008-01-22 09:31:00  126.67  127.12\n",
       " 2       2008-01-22 09:32:00  127.10  126.78\n",
       " 3       2008-01-22 09:33:00  126.76  126.54\n",
       " 4       2008-01-22 09:34:00  126.54  126.78\n",
       " ...                     ...     ...     ...\n",
       " 1615277 2019-05-31 15:58:00  275.55  275.47\n",
       " 1615278 2019-05-31 15:58:00  275.55  275.47\n",
       " 1615279 2019-05-31 15:59:00  275.48  275.37\n",
       " 1615280 2019-05-31 15:59:00  275.48  275.37\n",
       " 1615281 2019-05-31 15:59:00  275.48  275.37\n",
       " \n",
       " [1615282 rows x 3 columns],\n",
       "                        date    open   close\n",
       " 1615282 2019-06-03 09:30:00  275.31  275.36\n",
       " 1615283 2019-06-03 09:31:00  275.37  275.80\n",
       " 1615284 2019-06-03 09:32:00  275.79  275.76\n",
       " 1615285 2019-06-03 09:33:00  275.76  275.87\n",
       " 1615286 2019-06-03 09:34:00  275.86  275.99\n",
       " ...                     ...     ...     ...\n",
       " 2070829 2021-05-06 15:55:00  418.56  418.49\n",
       " 2070830 2021-05-06 15:56:00  418.50  418.64\n",
       " 2070831 2021-05-06 15:57:00  418.64  418.79\n",
       " 2070832 2021-05-06 15:58:00  418.79  418.76\n",
       " 2070833 2021-05-06 15:59:00  418.76  419.08\n",
       " \n",
       " [455552 rows x 3 columns],\n",
       "                       date    open    close\n",
       " 0      2021-06-14 09:30:00  424.43  424.180\n",
       " 1      2021-06-14 09:31:00  424.19  423.990\n",
       " 2      2021-06-14 09:32:00  423.98  423.830\n",
       " 3      2021-06-14 09:33:00  423.82  423.810\n",
       " 4      2021-06-14 09:34:00  423.82  423.770\n",
       " ...                    ...     ...      ...\n",
       " 205775 2023-07-20 15:55:00  452.18  452.200\n",
       " 205776 2023-07-20 15:56:00  452.20  452.105\n",
       " 205777 2023-07-20 15:57:00  452.10  452.075\n",
       " 205778 2023-07-20 15:58:00  452.08  452.180\n",
       " 205779 2023-07-20 15:59:00  452.18  452.180\n",
       " \n",
       " [205780 rows x 3 columns])"
      ]
     },
     "execution_count": 8,
     "metadata": {},
     "output_type": "execute_result"
    }
   ],
   "source": [
    "get_datasets()"
   ]
  }
 ],
 "metadata": {
  "kernelspec": {
   "display_name": "base",
   "language": "python",
   "name": "python3"
  },
  "language_info": {
   "codemirror_mode": {
    "name": "ipython",
    "version": 3
   },
   "file_extension": ".py",
   "mimetype": "text/x-python",
   "name": "python",
   "nbconvert_exporter": "python",
   "pygments_lexer": "ipython3",
   "version": "3.9.13"
  },
  "orig_nbformat": 4
 },
 "nbformat": 4,
 "nbformat_minor": 2
}
