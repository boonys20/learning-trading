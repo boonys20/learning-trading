{
 "cells": [
  {
   "cell_type": "code",
   "execution_count": 1,
   "metadata": {},
   "outputs": [],
   "source": [
    "from backtesting import Backtest\n",
    "from backtesting import Strategy\n",
    "from backtesting.lib import crossover\n",
    "import yfinance as yf\n",
    "import numpy as np"
   ]
  },
  {
   "cell_type": "code",
   "execution_count": 2,
   "metadata": {},
   "outputs": [],
   "source": [
    "ticker = 'ADVANC.BK'\n",
    "start_date = '2017-09-14'\n",
    "end_date = '2023-05-29'\n",
    "\n",
    "def load_data(ticker):\n",
    "    try:            \n",
    "      data = yf.download(ticker, start_date, end_date)\n",
    "      data.reset_index(inplace=True)\n",
    "      return data\n",
    "    except Exception as e:\n",
    "      print(f'An exception occurred while executing load_data: {e}')"
   ]
  },
  {
   "cell_type": "code",
   "execution_count": 3,
   "metadata": {},
   "outputs": [
    {
     "name": "stdout",
     "output_type": "stream",
     "text": [
      "[*********************100%***********************]  1 of 1 completed\n"
     ]
    },
    {
     "name": "stderr",
     "output_type": "stream",
     "text": [
      "/var/folders/69/k2882s3d5jbbkmnl3p42wg4ws68910/T/ipykernel_30512/1954349945.py:31: UserWarning: Data index is not datetime. Assuming simple periods, but `pd.DateTimeIndex` is advised.\n",
      "  bt = Backtest(my_data, Strategy, cash = 10000, commission=0.002)\n"
     ]
    },
    {
     "ename": "TypeError",
     "evalue": "Can't instantiate abstract class Strategy with abstract methods init, next",
     "output_type": "error",
     "traceback": [
      "\u001b[0;31m---------------------------------------------------------------------------\u001b[0m",
      "\u001b[0;31mTypeError\u001b[0m                                 Traceback (most recent call last)",
      "\u001b[1;32m/Users/11414695/Documents/workspaces/indy/medium-blogs/backtest/Trailing/trailing_strategy.ipynb Cell 3\u001b[0m in \u001b[0;36m<cell line: 33>\u001b[0;34m()\u001b[0m\n\u001b[1;32m     <a href='vscode-notebook-cell:/Users/11414695/Documents/workspaces/indy/medium-blogs/backtest/Trailing/trailing_strategy.ipynb#W2sZmlsZQ%3D%3D?line=28'>29</a>\u001b[0m my_data \u001b[39m=\u001b[39m load_data(ticker)\n\u001b[1;32m     <a href='vscode-notebook-cell:/Users/11414695/Documents/workspaces/indy/medium-blogs/backtest/Trailing/trailing_strategy.ipynb#W2sZmlsZQ%3D%3D?line=30'>31</a>\u001b[0m bt \u001b[39m=\u001b[39m Backtest(my_data, Strategy, cash \u001b[39m=\u001b[39m \u001b[39m10000\u001b[39m, commission\u001b[39m=\u001b[39m\u001b[39m0.002\u001b[39m)\n\u001b[0;32m---> <a href='vscode-notebook-cell:/Users/11414695/Documents/workspaces/indy/medium-blogs/backtest/Trailing/trailing_strategy.ipynb#W2sZmlsZQ%3D%3D?line=32'>33</a>\u001b[0m stats \u001b[39m=\u001b[39m bt\u001b[39m.\u001b[39;49mrun(\n\u001b[1;32m     <a href='vscode-notebook-cell:/Users/11414695/Documents/workspaces/indy/medium-blogs/backtest/Trailing/trailing_strategy.ipynb#W2sZmlsZQ%3D%3D?line=33'>34</a>\u001b[0m         rsi_window \u001b[39m=\u001b[39;49m \u001b[39m21\u001b[39;49m,\n\u001b[1;32m     <a href='vscode-notebook-cell:/Users/11414695/Documents/workspaces/indy/medium-blogs/backtest/Trailing/trailing_strategy.ipynb#W2sZmlsZQ%3D%3D?line=34'>35</a>\u001b[0m         lower_bound \u001b[39m=\u001b[39;49m \u001b[39m40\u001b[39;49m,\n\u001b[1;32m     <a href='vscode-notebook-cell:/Users/11414695/Documents/workspaces/indy/medium-blogs/backtest/Trailing/trailing_strategy.ipynb#W2sZmlsZQ%3D%3D?line=35'>36</a>\u001b[0m         stop_range \u001b[39m=\u001b[39;49m \u001b[39m5\u001b[39;49m,\n\u001b[1;32m     <a href='vscode-notebook-cell:/Users/11414695/Documents/workspaces/indy/medium-blogs/backtest/Trailing/trailing_strategy.ipynb#W2sZmlsZQ%3D%3D?line=36'>37</a>\u001b[0m         )\n\u001b[1;32m     <a href='vscode-notebook-cell:/Users/11414695/Documents/workspaces/indy/medium-blogs/backtest/Trailing/trailing_strategy.ipynb#W2sZmlsZQ%3D%3D?line=38'>39</a>\u001b[0m \u001b[39mprint\u001b[39m(stats)\n\u001b[1;32m     <a href='vscode-notebook-cell:/Users/11414695/Documents/workspaces/indy/medium-blogs/backtest/Trailing/trailing_strategy.ipynb#W2sZmlsZQ%3D%3D?line=39'>40</a>\u001b[0m bt\u001b[39m.\u001b[39mplot()\n",
      "File \u001b[0;32m/opt/homebrew/anaconda3/lib/python3.9/site-packages/backtesting/backtesting.py:1137\u001b[0m, in \u001b[0;36mBacktest.run\u001b[0;34m(self, **kwargs)\u001b[0m\n\u001b[1;32m   1135\u001b[0m data \u001b[39m=\u001b[39m _Data(\u001b[39mself\u001b[39m\u001b[39m.\u001b[39m_data\u001b[39m.\u001b[39mcopy(deep\u001b[39m=\u001b[39m\u001b[39mFalse\u001b[39;00m))\n\u001b[1;32m   1136\u001b[0m broker: _Broker \u001b[39m=\u001b[39m \u001b[39mself\u001b[39m\u001b[39m.\u001b[39m_broker(data\u001b[39m=\u001b[39mdata)\n\u001b[0;32m-> 1137\u001b[0m strategy: Strategy \u001b[39m=\u001b[39m \u001b[39mself\u001b[39;49m\u001b[39m.\u001b[39;49m_strategy(broker, data, kwargs)\n\u001b[1;32m   1139\u001b[0m strategy\u001b[39m.\u001b[39minit()\n\u001b[1;32m   1140\u001b[0m data\u001b[39m.\u001b[39m_update()  \u001b[39m# Strategy.init might have changed/added to data.df\u001b[39;00m\n",
      "\u001b[0;31mTypeError\u001b[0m: Can't instantiate abstract class Strategy with abstract methods init, next"
     ]
    }
   ],
   "source": [
    "class TrailingStrategy(Strategy):\n",
    "\n",
    "    __sl_amount = 6.\n",
    "\n",
    "    def init(self):\n",
    "        super().init()\n",
    "\n",
    "    def set_trailing_sl(self, sl_amount: float = 6):\n",
    "\n",
    "        \"\"\"\n",
    "    Set the trailing stop loss as $n below the current price (for long positions)\n",
    "        Works for future bars only\n",
    "        \"\"\"\n",
    "        self.__sl_amount = sl_amount\n",
    "\n",
    "    def next(self):\n",
    "        super().next()\n",
    "        # Can't use index=-1 because self.__atr is not an Indicator type\n",
    "        index = len(self.data)-1\n",
    "\n",
    "        for trade in self.trades:\n",
    "            if trade.is_long:\n",
    "                trade.sl = max(trade.sl or -np.inf,\n",
    "                               self.data.Close[index] -  self.__sl_amount)\n",
    "            else:\n",
    "                trade.sl = min(trade.sl or np.inf,\n",
    "                               self.data.Close[index] +  self.__sl_amount)\n",
    "                \n",
    "my_data = load_data(ticker)\n",
    "\n",
    "bt = Backtest(my_data, Strategy, cash = 10000, commission=0.002)\n",
    "\n",
    "stats = bt.run(\n",
    "        rsi_window = 21,\n",
    "        lower_bound = 40,\n",
    "        stop_range = 5,\n",
    "        )\n",
    "\n",
    "print(stats)\n",
    "bt.plot()"
   ]
  }
 ],
 "metadata": {
  "kernelspec": {
   "display_name": "base",
   "language": "python",
   "name": "python3"
  },
  "language_info": {
   "codemirror_mode": {
    "name": "ipython",
    "version": 3
   },
   "file_extension": ".py",
   "mimetype": "text/x-python",
   "name": "python",
   "nbconvert_exporter": "python",
   "pygments_lexer": "ipython3",
   "version": "3.9.13"
  },
  "orig_nbformat": 4
 },
 "nbformat": 4,
 "nbformat_minor": 2
}
