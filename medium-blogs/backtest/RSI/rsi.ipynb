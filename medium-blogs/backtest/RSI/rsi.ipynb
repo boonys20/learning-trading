{
 "cells": [
  {
   "cell_type": "code",
   "execution_count": 10,
   "metadata": {},
   "outputs": [],
   "source": [
    "from backtesting import Backtest, Strategy\n",
    "from backtesting.lib import crossover, TrailingStrategy\n",
    "import yfinance as yf\n",
    "import ta"
   ]
  },
  {
   "cell_type": "code",
   "execution_count": 11,
   "metadata": {},
   "outputs": [],
   "source": [
    "ticker = 'BNB-USD'\n",
    "start_date = '2017-09-14'\n",
    "end_date = '2023-05-29'\n",
    "\n",
    "def load_data(ticker):\n",
    "    try:            \n",
    "      data = yf.download(ticker, start_date, end_date)\n",
    "      data.reset_index(inplace=True)\n",
    "      return data\n",
    "    except Exception as e:\n",
    "      print(f'An exception occurred while executing load_data: {e}')"
   ]
  },
  {
   "cell_type": "code",
   "execution_count": 12,
   "metadata": {},
   "outputs": [
    {
     "name": "stdout",
     "output_type": "stream",
     "text": [
      "[*********************100%***********************]  1 of 1 completed\n",
      "Start                                     0.0\n",
      "End                                    2026.0\n",
      "Duration                               2026.0\n",
      "Exposure Time [%]                   69.166256\n",
      "Equity Final [$]                  8694.592267\n",
      "Equity Peak [$]                  38837.283628\n",
      "Return [%]                         -13.054077\n",
      "Buy & Hold Return [%]            15686.356678\n",
      "Return (Ann.) [%]                         0.0\n",
      "Volatility (Ann.) [%]                     NaN\n",
      "Sharpe Ratio                              NaN\n",
      "Sortino Ratio                             NaN\n",
      "Calmar Ratio                              0.0\n",
      "Max. Drawdown [%]                  -80.922815\n",
      "Avg. Drawdown [%]                  -19.698219\n",
      "Max. Drawdown Duration                 1499.0\n",
      "Avg. Drawdown Duration             128.333333\n",
      "# Trades                                 17.0\n",
      "Win Rate [%]                        35.294118\n",
      "Best Trade [%]                     283.609411\n",
      "Worst Trade [%]                    -37.170593\n",
      "Avg. Trade [%]                      -0.888435\n",
      "Max. Trade Duration                     163.0\n",
      "Avg. Trade Duration                 81.470588\n",
      "Profit Factor                        1.842868\n",
      "Expectancy [%]                      11.937544\n",
      "SQN                                 -0.040229\n",
      "_strategy                 RsiOscillator(rs...\n",
      "_equity_curve                         Equi...\n",
      "_trades                       Size  EntryB...\n",
      "dtype: object\n"
     ]
    },
    {
     "name": "stderr",
     "output_type": "stream",
     "text": [
      "/var/folders/69/k2882s3d5jbbkmnl3p42wg4ws68910/T/ipykernel_14219/1195659991.py:29: UserWarning: Data index is not datetime. Assuming simple periods, but `pd.DateTimeIndex` is advised.\n",
      "  bt = Backtest(my_data, RsiOscillator, cash = 10000, commission=0.07)\n"
     ]
    },
    {
     "data": {
      "text/html": [
       "<div style=\"display: table;\"><div style=\"display: table-row;\"><div style=\"display: table-cell;\"><b title=\"bokeh.models.layouts.Row\">Row</b>(</div><div style=\"display: table-cell;\">id&nbsp;=&nbsp;'3799', <span id=\"4517\" style=\"cursor: pointer;\">&hellip;)</span></div></div><div class=\"4516\" style=\"display: none;\"><div style=\"display: table-cell;\"></div><div style=\"display: table-cell;\">align&nbsp;=&nbsp;'start',</div></div><div class=\"4516\" style=\"display: none;\"><div style=\"display: table-cell;\"></div><div style=\"display: table-cell;\">aspect_ratio&nbsp;=&nbsp;None,</div></div><div class=\"4516\" style=\"display: none;\"><div style=\"display: table-cell;\"></div><div style=\"display: table-cell;\">background&nbsp;=&nbsp;None,</div></div><div class=\"4516\" style=\"display: none;\"><div style=\"display: table-cell;\"></div><div style=\"display: table-cell;\">children&nbsp;=&nbsp;[GridBox(id='3796', ...), ToolbarBox(id='3798', ...)],</div></div><div class=\"4516\" style=\"display: none;\"><div style=\"display: table-cell;\"></div><div style=\"display: table-cell;\">cols&nbsp;=&nbsp;'auto',</div></div><div class=\"4516\" style=\"display: none;\"><div style=\"display: table-cell;\"></div><div style=\"display: table-cell;\">css_classes&nbsp;=&nbsp;[],</div></div><div class=\"4516\" style=\"display: none;\"><div style=\"display: table-cell;\"></div><div style=\"display: table-cell;\">disabled&nbsp;=&nbsp;False,</div></div><div class=\"4516\" style=\"display: none;\"><div style=\"display: table-cell;\"></div><div style=\"display: table-cell;\">height&nbsp;=&nbsp;None,</div></div><div class=\"4516\" style=\"display: none;\"><div style=\"display: table-cell;\"></div><div style=\"display: table-cell;\">height_policy&nbsp;=&nbsp;'auto',</div></div><div class=\"4516\" style=\"display: none;\"><div style=\"display: table-cell;\"></div><div style=\"display: table-cell;\">js_event_callbacks&nbsp;=&nbsp;{},</div></div><div class=\"4516\" style=\"display: none;\"><div style=\"display: table-cell;\"></div><div style=\"display: table-cell;\">js_property_callbacks&nbsp;=&nbsp;{},</div></div><div class=\"4516\" style=\"display: none;\"><div style=\"display: table-cell;\"></div><div style=\"display: table-cell;\">margin&nbsp;=&nbsp;(0, 0, 0, 0),</div></div><div class=\"4516\" style=\"display: none;\"><div style=\"display: table-cell;\"></div><div style=\"display: table-cell;\">max_height&nbsp;=&nbsp;None,</div></div><div class=\"4516\" style=\"display: none;\"><div style=\"display: table-cell;\"></div><div style=\"display: table-cell;\">max_width&nbsp;=&nbsp;None,</div></div><div class=\"4516\" style=\"display: none;\"><div style=\"display: table-cell;\"></div><div style=\"display: table-cell;\">min_height&nbsp;=&nbsp;None,</div></div><div class=\"4516\" style=\"display: none;\"><div style=\"display: table-cell;\"></div><div style=\"display: table-cell;\">min_width&nbsp;=&nbsp;None,</div></div><div class=\"4516\" style=\"display: none;\"><div style=\"display: table-cell;\"></div><div style=\"display: table-cell;\">name&nbsp;=&nbsp;None,</div></div><div class=\"4516\" style=\"display: none;\"><div style=\"display: table-cell;\"></div><div style=\"display: table-cell;\">sizing_mode&nbsp;=&nbsp;'stretch_width',</div></div><div class=\"4516\" style=\"display: none;\"><div style=\"display: table-cell;\"></div><div style=\"display: table-cell;\">spacing&nbsp;=&nbsp;0,</div></div><div class=\"4516\" style=\"display: none;\"><div style=\"display: table-cell;\"></div><div style=\"display: table-cell;\">subscribed_events&nbsp;=&nbsp;[],</div></div><div class=\"4516\" style=\"display: none;\"><div style=\"display: table-cell;\"></div><div style=\"display: table-cell;\">syncable&nbsp;=&nbsp;True,</div></div><div class=\"4516\" style=\"display: none;\"><div style=\"display: table-cell;\"></div><div style=\"display: table-cell;\">tags&nbsp;=&nbsp;[],</div></div><div class=\"4516\" style=\"display: none;\"><div style=\"display: table-cell;\"></div><div style=\"display: table-cell;\">visible&nbsp;=&nbsp;True,</div></div><div class=\"4516\" style=\"display: none;\"><div style=\"display: table-cell;\"></div><div style=\"display: table-cell;\">width&nbsp;=&nbsp;None,</div></div><div class=\"4516\" style=\"display: none;\"><div style=\"display: table-cell;\"></div><div style=\"display: table-cell;\">width_policy&nbsp;=&nbsp;'auto')</div></div></div>\n",
       "<script>\n",
       "(function() {\n",
       "  let expanded = false;\n",
       "  const ellipsis = document.getElementById(\"4517\");\n",
       "  ellipsis.addEventListener(\"click\", function() {\n",
       "    const rows = document.getElementsByClassName(\"4516\");\n",
       "    for (let i = 0; i < rows.length; i++) {\n",
       "      const el = rows[i];\n",
       "      el.style.display = expanded ? \"none\" : \"table-row\";\n",
       "    }\n",
       "    ellipsis.innerHTML = expanded ? \"&hellip;)\" : \"&lsaquo;&lsaquo;&lsaquo;\";\n",
       "    expanded = !expanded;\n",
       "  });\n",
       "})();\n",
       "</script>\n"
      ],
      "text/plain": [
       "Row(id='3799', ...)"
      ]
     },
     "execution_count": 12,
     "metadata": {},
     "output_type": "execute_result"
    }
   ],
   "source": [
    "def RsiIndicator(close, window):\n",
    "    rsi = ta.momentum.RSIIndicator(close, window=window)\n",
    "    return rsi.rsi()\n",
    "\n",
    "class RsiOscillator(TrailingStrategy):\n",
    "    \"\"\"\n",
    "    Buy when we cross the lower bound to the upside\n",
    "    hold until we get stopped out\n",
    "    \"\"\"\n",
    "\n",
    "    rsi_window = 14\n",
    "    lower_bound = 70\n",
    "    stop_range = 10\n",
    "\n",
    "    def init(self):\n",
    "        super().init()\n",
    "        super().set_trailing_sl(self.stop_range)\n",
    "        self.rsi = self.I(RsiIndicator, self.data.Close.s, self.rsi_window)\n",
    "\n",
    "    def next(self):\n",
    "        super().next()\n",
    "\n",
    "        if len(self.trades) == 0:\n",
    "            if crossover(self.rsi, self.lower_bound):\n",
    "                self.buy()\n",
    "\n",
    "my_data = load_data(ticker)\n",
    "\n",
    "bt = Backtest(my_data, RsiOscillator, cash = 10000, commission=0.07)\n",
    "\n",
    "stats = bt.run(\n",
    "        rsi_window = 21,\n",
    "        lower_bound = 40,\n",
    "        stop_range = 5,\n",
    "        )\n",
    "\n",
    "print(stats)\n",
    "bt.plot()"
   ]
  }
 ],
 "metadata": {
  "kernelspec": {
   "display_name": "base",
   "language": "python",
   "name": "python3"
  },
  "language_info": {
   "codemirror_mode": {
    "name": "ipython",
    "version": 3
   },
   "file_extension": ".py",
   "mimetype": "text/x-python",
   "name": "python",
   "nbconvert_exporter": "python",
   "pygments_lexer": "ipython3",
   "version": "3.9.13"
  },
  "orig_nbformat": 4
 },
 "nbformat": 4,
 "nbformat_minor": 2
}
